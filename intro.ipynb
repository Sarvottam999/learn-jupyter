{
 "cells": [
  {
   "cell_type": "markdown",
   "id": "53d5096e",
   "metadata": {},
   "source": [
    "<h1>Header 1,title<h1>\n",
    "   ESC + M = MARKDOWN\n",
    "\n"
   ]
  },
  {
   "cell_type": "markdown",
   "id": "263b41d6",
   "metadata": {},
   "source": [
    "<font color=\"red\" size = \"10px\">\n",
    "    \n",
    "  <center>Header</center>\n",
    "\n",
    "</font>\n",
    "\n",
    "\n",
    "# (Header 1, title)\n",
    "\n",
    "## (Header 2, major headings)\n",
    "\n",
    "### (Header 3, subheadings)\n",
    "\n",
    "#### (Header 4)\n",
    "\n",
    "##### (Header 5)\n",
    "\n",
    "###### (Header 6)\n",
    "\n",
    "## \n",
    "<font color=\"red\" size = \"10px\">\n",
    "    \n",
    "  <center>with using html tag</center>\n",
    "\n",
    "</font>\n",
    "\n",
    "\n",
    "<h1>Header 1,title<h1>\n",
    "<h2>Header 2,major headings<h2>\n",
    "<h3>Header 3,subheadings<h3>\n",
    "<h4>Header 4<h4>\n",
    "<h5>Header 5<h5>\n",
    "<h6>Header 6<h6>\n"
   ]
  },
  {
   "cell_type": "markdown",
   "id": "ed99facc",
   "metadata": {},
   "source": [
    "<font color=\"red\" size = \"10px\">  \n",
    "  <center>Blockquotes</center>\n",
    "</font>\n",
    "\n",
    "\n",
    "<blockquote>This is good</blockquote>"
   ]
  },
  {
   "cell_type": "markdown",
   "id": "4e212181",
   "metadata": {},
   "source": [
    "<font color=\"red\" size = \"10px\">  \n",
    "  <center>Code section</center>\n",
    "</font>\n",
    "\n",
    "<code>code goes here<code>"
   ]
  },
  {
   "cell_type": "markdown",
   "id": "15a58504",
   "metadata": {},
   "source": [
    "<font color=\"red\" size = \"10px\">  \n",
    "  <center>Mathematical Symbol</center>\n",
    "</font>\n",
    "\n",
    "$\\sqrt{k}$"
   ]
  },
  {
   "cell_type": "markdown",
   "id": "037b9904",
   "metadata": {},
   "source": [
    "<font color=\"red\" size = \"10px\">  \n",
    "  <center>Blockquotes</center>\n",
    "</font>\n",
    "<a> href=\"https://www.google.com\" >Link to Google</a>"
   ]
  },
  {
   "cell_type": "markdown",
   "id": "5e1a3cdb",
   "metadata": {},
   "source": [
    " \n",
    "\n",
    "<img src=\"https://i.imgur.com/WWrydEh.png\" width =\"500\" height=500 >"
   ]
  },
  {
   "cell_type": "code",
   "execution_count": null,
   "id": "e0f9fbc4",
   "metadata": {},
   "outputs": [],
   "source": []
  },
  {
   "cell_type": "code",
   "execution_count": null,
   "id": "0db9dbce",
   "metadata": {},
   "outputs": [],
   "source": []
  },
  {
   "cell_type": "code",
   "execution_count": null,
   "id": "2a52992f",
   "metadata": {},
   "outputs": [],
   "source": []
  },
  {
   "cell_type": "code",
   "execution_count": null,
   "id": "48d45308",
   "metadata": {},
   "outputs": [],
   "source": []
  },
  {
   "cell_type": "code",
   "execution_count": null,
   "id": "4ba8aad8",
   "metadata": {},
   "outputs": [],
   "source": []
  }
 ],
 "metadata": {
  "kernelspec": {
   "display_name": "Python 3 (ipykernel)",
   "language": "python",
   "name": "python3"
  },
  "language_info": {
   "codemirror_mode": {
    "name": "ipython",
    "version": 3
   },
   "file_extension": ".py",
   "mimetype": "text/x-python",
   "name": "python",
   "nbconvert_exporter": "python",
   "pygments_lexer": "ipython3",
   "version": "3.9.7"
  }
 },
 "nbformat": 4,
 "nbformat_minor": 5
}
